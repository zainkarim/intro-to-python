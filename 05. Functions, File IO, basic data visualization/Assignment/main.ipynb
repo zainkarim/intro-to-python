{
 "cells": [
  {
   "cell_type": "markdown",
   "metadata": {},
   "source": [
    "Write a Python function that takes as input a plain-text filename and returns the number of lines, words, and characters in the file. White space does not count as characters, but punctuation does. Your main code should call this function and print the returned three values in a nicely formatted ouput like:\n",
    "\n",
    "10 lines; 100 words; 1000 characters.\n",
    "\n",
    "Your code should only read through the input file only once.\n",
    "\n",
    "You know how to read each line in a file as a string. Given a line L, Python has a built-in command that will generate a list of all of the words (separated by spaces) in a string: W = L.split(), from which you will be able to count the number of words and characters."
   ]
  },
  {
   "cell_type": "code",
   "execution_count": 75,
   "metadata": {},
   "outputs": [
    {
     "name": "stdout",
     "output_type": "stream",
     "text": [
      "This file contains 133 lines; 1324 words; 8448 characters.\n",
      "None\n"
     ]
    }
   ],
   "source": [
    "def fileDetails(filename):\n",
    "    # read and print each line of a plain text file\n",
    "    file = open(filename, \"r\") # r -> read\n",
    "\n",
    "    numLines = 0\n",
    "    numWords = 0\n",
    "    numChars = 0\n",
    "\n",
    "    for line in file: # for every line in the file (read every line one at a time)\n",
    "        numLines += 1 # add 1 to the numLines counter\n",
    "        words = line.split()\n",
    "        numWords += len(words)\n",
    "        for word in line:\n",
    "            numChars += len(word)\n",
    "            \n",
    "    file.close() #close the file\n",
    "    print(\"This file contains \" + str(numLines) + \" lines; \" + str(numWords) + \" words; \" + str(numChars) + ' characters.')\n",
    "\n",
    "# ask user for file to open:\n",
    "filename = input(\"What is the name of the file you want to open?\\n\")\n",
    "print(fileDetails(filename))"
   ]
  }
 ],
 "metadata": {
  "kernelspec": {
   "display_name": "Python 3",
   "language": "python",
   "name": "python3"
  },
  "language_info": {
   "codemirror_mode": {
    "name": "ipython",
    "version": 3
   },
   "file_extension": ".py",
   "mimetype": "text/x-python",
   "name": "python",
   "nbconvert_exporter": "python",
   "pygments_lexer": "ipython3",
   "version": "3.10.7"
  }
 },
 "nbformat": 4,
 "nbformat_minor": 2
}
