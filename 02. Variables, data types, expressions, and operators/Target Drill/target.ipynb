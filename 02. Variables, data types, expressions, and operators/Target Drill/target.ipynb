{
 "cells": [
  {
   "cell_type": "code",
   "execution_count": null,
   "metadata": {},
   "outputs": [],
   "source": [
    "# ----- DRILL -----\n",
    "# Write some code that draws a bullseye:\n",
    "# an inner red circle superimposed atop \n",
    "# a yellow circle superimposed atop \n",
    "# an outer blue circle (you should therefore see a red circle, green ring and blue ring)\n",
    "# define a single variable 's' that scales the size of the bullseye"
   ]
  },
  {
   "cell_type": "code",
   "execution_count": 19,
   "metadata": {},
   "outputs": [
    {
     "data": {
      "image/svg+xml": [
       "<?xml version=\"1.0\" encoding=\"UTF-8\"?>\n",
       "<svg xmlns=\"http://www.w3.org/2000/svg\" xmlns:xlink=\"http://www.w3.org/1999/xlink\"\n",
       "     width=\"200\" height=\"200\" viewBox=\"-100.0 -100.0 200 200\">\n",
       "<defs>\n",
       "</defs>\n",
       "<circle cx=\"0\" cy=\"0\" r=\"75\" fill=\"blue\" stroke-width=\"1\" stroke=\"black\" />\n",
       "<circle cx=\"0\" cy=\"0\" r=\"50\" fill=\"yellow\" stroke-width=\"1\" stroke=\"black\" />\n",
       "<circle cx=\"0\" cy=\"0\" r=\"25\" fill=\"red\" stroke-width=\"1\" stroke=\"black\" />\n",
       "</svg>"
      ],
      "text/plain": [
       "<drawsvg.drawing.Drawing at 0x11043dd80>"
      ]
     },
     "execution_count": 19,
     "metadata": {},
     "output_type": "execute_result"
    }
   ],
   "source": [
    "import drawsvg as draw\n",
    "s = 25 # Scale of circles.\n",
    "d = draw.Drawing(200,200, origin = 'center') # create canvas\n",
    "\n",
    "d.append(draw.Circle(0, 0, s*3,\n",
    "            fill = 'blue', stroke_width = 1, stroke = 'black')) # render a circle\n",
    "d.append(draw.Circle(0, 0, s*2,\n",
    "            fill = 'yellow', stroke_width = 1, stroke = 'black')) # render a circle\n",
    "d.append(draw.Circle(0, 0, s,\n",
    "            fill = 'red', stroke_width = 1, stroke = 'black')) # render a red circle\n",
    "d"
   ]
  }
 ],
 "metadata": {
  "kernelspec": {
   "display_name": "Python 3",
   "language": "python",
   "name": "python3"
  },
  "language_info": {
   "codemirror_mode": {
    "name": "ipython",
    "version": 3
   },
   "file_extension": ".py",
   "mimetype": "text/x-python",
   "name": "python",
   "nbconvert_exporter": "python",
   "pygments_lexer": "ipython3",
   "version": "3.10.7"
  }
 },
 "nbformat": 4,
 "nbformat_minor": 2
}
