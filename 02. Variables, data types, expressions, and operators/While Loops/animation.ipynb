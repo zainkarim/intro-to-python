{
 "cells": [
  {
   "cell_type": "code",
   "execution_count": 22,
   "metadata": {},
   "outputs": [
    {
     "data": {
      "image/svg+xml": [
       "<?xml version=\"1.0\" encoding=\"UTF-8\"?>\n",
       "<svg xmlns=\"http://www.w3.org/2000/svg\" xmlns:xlink=\"http://www.w3.org/1999/xlink\"\n",
       "     width=\"250\" height=\"250\" viewBox=\"-125.0 -125.0 250 250\">\n",
       "<defs>\n",
       "</defs>\n",
       "<circle cx=\"0\" cy=\"100\" r=\"25\" fill=\"purple\" />\n",
       "</svg>"
      ],
      "text/plain": [
       "<drawsvg.drawing.Drawing at 0x112d7a620>"
      ]
     },
     "metadata": {},
     "output_type": "display_data"
    }
   ],
   "source": [
    "import drawsvg as draw\n",
    "\n",
    "# Draw a frame of the animation for bouncing ball\n",
    "def draw_frame(y):\n",
    "    d = draw.Drawing(250, 250, origin='center')\n",
    "    d.append(draw.Circle(0, y, 25, fill='purple'))\n",
    "    return d\n",
    "               \n",
    "# bounce the ball up and down\n",
    "with draw.frame_animate_jupyter(draw_frame, delay=0.05) as anim:\n",
    "    anim.draw_frame(100)\n",
    "    anim.draw_frame(90)\n",
    "    anim.draw_frame(80)\n",
    "    anim.draw_frame(70)\n",
    "    anim.draw_frame(60)\n",
    "    anim.draw_frame(50)\n",
    "    anim.draw_frame(40)\n",
    "    anim.draw_frame(30)\n",
    "    anim.draw_frame(20)\n",
    "    anim.draw_frame(10)\n",
    "    anim.draw_frame(0)\n",
    "    anim.draw_frame(10)\n",
    "    anim.draw_frame(20)\n",
    "    anim.draw_frame(30)\n",
    "    anim.draw_frame(40)\n",
    "    anim.draw_frame(50)\n",
    "    anim.draw_frame(60)\n",
    "    anim.draw_frame(70)\n",
    "    anim.draw_frame(80)\n",
    "    anim.draw_frame(90)\n",
    "    anim.draw_frame(100)"
   ]
  },
  {
   "cell_type": "code",
   "execution_count": 8,
   "metadata": {},
   "outputs": [
    {
     "data": {
      "text/plain": [
       "-0.9880037090712214"
      ]
     },
     "execution_count": 8,
     "metadata": {},
     "output_type": "execute_result"
    }
   ],
   "source": [
    "# Rotate a square around a circular trajectory\n",
    "import math\n",
    "\n",
    "# convert to radians: deg * math.pi/180\n",
    "r = 1 # radius\n",
    "math.cos(t)\n",
    "math.sin(t)"
   ]
  },
  {
   "cell_type": "code",
   "execution_count": 14,
   "metadata": {},
   "outputs": [
    {
     "data": {
      "image/svg+xml": [
       "<?xml version=\"1.0\" encoding=\"UTF-8\"?>\n",
       "<svg xmlns=\"http://www.w3.org/2000/svg\" xmlns:xlink=\"http://www.w3.org/1999/xlink\"\n",
       "     width=\"250\" height=\"250\" viewBox=\"-125.0 -125.0 250 250\">\n",
       "<defs>\n",
       "</defs>\n",
       "<rect x=\"86.60254037844388\" y=\"49.99999999999999\" width=\"25\" height=\"25\" fill=\"red\" />\n",
       "</svg>"
      ],
      "text/plain": [
       "<drawsvg.drawing.Drawing at 0x112bfef20>"
      ]
     },
     "metadata": {},
     "output_type": "display_data"
    }
   ],
   "source": [
    "# rotate a square around a circular trajectory\n",
    "import drawsvg as draw\n",
    "import math\n",
    "\n",
    "# Draw a frame of the animation\n",
    "def draw_frame(t):\n",
    "    r = 100 # radius\n",
    "    x = r * math.cos(t * math.pi / 180) # x on circle\n",
    "    y = r * math.sin(t * math.pi / 180) # y on circle\n",
    "    d = draw.Drawing(250, 250, origin = 'center')\n",
    "    d.append(draw.Rectangle(x, y, 25, 25, fill = 'red'))\n",
    "    return d\n",
    "\n",
    "# rotate the square\n",
    "with draw.frame_animate_jupyter(draw_frame, delay = 0.05) as anim:\n",
    "    anim.draw_frame(0)\n",
    "    anim.draw_frame(10)\n",
    "    anim.draw_frame(20)\n",
    "    anim.draw_frame(30)"
   ]
  },
  {
   "cell_type": "code",
   "execution_count": 18,
   "metadata": {},
   "outputs": [
    {
     "data": {
      "image/svg+xml": [
       "<?xml version=\"1.0\" encoding=\"UTF-8\"?>\n",
       "<svg xmlns=\"http://www.w3.org/2000/svg\" xmlns:xlink=\"http://www.w3.org/1999/xlink\"\n",
       "     width=\"300\" height=\"300\" viewBox=\"-150.0 -150.0 300 300\">\n",
       "<defs>\n",
       "</defs>\n",
       "<rect x=\"98.48077530122085\" y=\"-17.364817766692813\" width=\"25\" height=\"25\" fill=\"red\" />\n",
       "</svg>"
      ],
      "text/plain": [
       "<drawsvg.drawing.Drawing at 0x112e0a830>"
      ]
     },
     "metadata": {},
     "output_type": "display_data"
    }
   ],
   "source": [
    "# DRILL: rotate a square using a while loop\n",
    "import drawsvg as draw\n",
    "import math\n",
    "\n",
    "# Draw a frame of the animation\n",
    "def draw_frame(t):\n",
    "    r = 100 # radius of circular trajectory\n",
    "    x = r * math.cos(t*math.pi/180) # x-location on circular trajectory with radius r\n",
    "    y = r * math.sin(t*math.pi/180) # y-location on circlar trajectory with radius r\n",
    "    d = draw.Drawing(300, 300, origin='center')\n",
    "    d.append(draw.Rectangle(x, y, 25, 25, fill='red'))\n",
    "    return d\n",
    "               \n",
    "# rotate the square\n",
    "with draw.frame_animate_jupyter(draw_frame, delay=0.05) as anim:\n",
    "    # your code here\n",
    "    t = 0 # assign an initial value to t\n",
    "    while(t < 2160): # create while loop -- 360 is the threshold bc 360 degrees = 1 revolution\n",
    "        anim.draw_frame(t) # draw the frame at current angle t\n",
    "        t = t + 10 # update t by adding ten to it"
   ]
  }
 ],
 "metadata": {
  "kernelspec": {
   "display_name": "Python 3",
   "language": "python",
   "name": "python3"
  },
  "language_info": {
   "codemirror_mode": {
    "name": "ipython",
    "version": 3
   },
   "file_extension": ".py",
   "mimetype": "text/x-python",
   "name": "python",
   "nbconvert_exporter": "python",
   "pygments_lexer": "ipython3",
   "version": "3.10.7"
  }
 },
 "nbformat": 4,
 "nbformat_minor": 2
}
