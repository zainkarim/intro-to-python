{
 "cells": [
  {
   "cell_type": "code",
   "execution_count": 1,
   "metadata": {},
   "outputs": [
    {
     "data": {
      "image/svg+xml": [
       "<?xml version=\"1.0\" encoding=\"UTF-8\"?>\n",
       "<svg xmlns=\"http://www.w3.org/2000/svg\" xmlns:xlink=\"http://www.w3.org/1999/xlink\"\n",
       "     width=\"250\" height=\"250\" viewBox=\"-125.0 -125.0 250 250\">\n",
       "<defs>\n",
       "</defs>\n",
       "<path d=\"M-100,-100 L-85,0\" stroke-width=\"1\" stroke=\"red\" />\n",
       "<path d=\"M100,-20 L15,95\" stroke-width=\"1\" stroke=\"red\" />\n",
       "<path d=\"M-100,-100 L15,95\" stroke-width=\"1\" stroke=\"blue\" />\n",
       "<path d=\"M-85,0 L100,-20\" stroke-width=\"1\" stroke=\"blue\" />\n",
       "<path d=\"M-99.25,-95.0 L19.25,89.25\" stroke-width=\"1\" stroke=\"blue\" />\n",
       "<path d=\"M-98.5,-90.0 L23.5,83.5\" stroke-width=\"1\" stroke=\"blue\" />\n",
       "<path d=\"M-97.75,-85.0 L27.75,77.75\" stroke-width=\"1\" stroke=\"blue\" />\n",
       "<path d=\"M-97.0,-80.0 L32.0,72.0\" stroke-width=\"1\" stroke=\"blue\" />\n",
       "<path d=\"M-96.25,-75.0 L36.25,66.25\" stroke-width=\"1\" stroke=\"blue\" />\n",
       "<path d=\"M-95.5,-70.0 L40.50000000000001,60.5\" stroke-width=\"1\" stroke=\"blue\" />\n",
       "<path d=\"M-94.75,-65.0 L44.75,54.75\" stroke-width=\"1\" stroke=\"blue\" />\n",
       "<path d=\"M-94.0,-60.0 L48.99999999999999,49.000000000000014\" stroke-width=\"1\" stroke=\"blue\" />\n",
       "<path d=\"M-93.25,-55.00000000000001 L53.24999999999999,43.25000000000001\" stroke-width=\"1\" stroke=\"blue\" />\n",
       "<path d=\"M-92.5,-50.00000000000001 L57.5,37.5\" stroke-width=\"1\" stroke=\"blue\" />\n",
       "<path d=\"M-91.75,-45.00000000000001 L61.74999999999999,31.750000000000007\" stroke-width=\"1\" stroke=\"blue\" />\n",
       "<path d=\"M-91.0,-40.0 L66.0,26.0\" stroke-width=\"1\" stroke=\"blue\" />\n",
       "<path d=\"M-90.25,-35.0 L70.25,20.25\" stroke-width=\"1\" stroke=\"blue\" />\n",
       "<path d=\"M-89.5,-30.0 L74.5,14.499999999999993\" stroke-width=\"1\" stroke=\"blue\" />\n",
       "<path d=\"M-88.75,-24.999999999999986 L78.75000000000001,8.749999999999986\" stroke-width=\"1\" stroke=\"blue\" />\n",
       "<path d=\"M-88.0,-19.999999999999986 L83.00000000000001,2.9999999999999822\" stroke-width=\"1\" stroke=\"blue\" />\n",
       "<path d=\"M-87.25,-14.999999999999986 L87.25000000000001,-2.7500000000000213\" stroke-width=\"1\" stroke=\"blue\" />\n",
       "<path d=\"M-86.5,-9.999999999999972 L91.50000000000003,-8.500000000000028\" stroke-width=\"1\" stroke=\"blue\" />\n",
       "<path d=\"M-85.75,-4.999999999999972 L95.75000000000003,-14.250000000000032\" stroke-width=\"1\" stroke=\"blue\" />\n",
       "</svg>"
      ],
      "text/plain": [
       "<drawsvg.drawing.Drawing at 0x10a05c790>"
      ]
     },
     "execution_count": 1,
     "metadata": {},
     "output_type": "execute_result"
    }
   ],
   "source": [
    "import drawsvg as draw\n",
    "\n",
    "# Define coordinates for line A\n",
    "x1a = -100\n",
    "y1a = -100\n",
    "x2a = -85\n",
    "y2a = 0\n",
    "\n",
    "# Define coordinates for line B\n",
    "x1b = 100\n",
    "y1b = -20\n",
    "x2b = 15\n",
    "y2b = 95\n",
    "\n",
    "# Create canvas\n",
    "d = draw.Drawing(250, 250, origin = 'center')\n",
    "\n",
    "# Draw line A (x1a = -100, y1a = 100) (x2a = -85, y2a = 0)\n",
    "d.append(draw.Line(x1a, y1a, x2a, y2a, stroke_width = 1, stroke = 'red'))\n",
    "\n",
    "# Draw line B (x1b = 100, y1b = 20) (x2b = 15, y2b = -95)\n",
    "d.append(draw.Line(x1b, y1b, x2b, y2b, stroke_width = 1, stroke = 'red'))\n",
    "\n",
    "# Draw first and last strings\n",
    "d.append(draw.Line(x1a, y1a, x2b, y2b, \n",
    "                   stroke_width = 1, stroke = 'blue')) # first string\n",
    "d.append(draw.Line(x2a, y2a, x1b, y1b,\n",
    "                   stroke_width = 1, stroke = 'blue')) # last string\n",
    "\n",
    "# Draw all of the strings in between\n",
    "f = 0.05\n",
    "while(f <  1):\n",
    "    d.append(draw.Line(x1a + f * (x2a - x1a), y1a + f * (y2a - y1a), \n",
    "                       x1b + (1.0 - f) * (x2b - x1b), y1b + (1.0 - f) * (y2b - y1b),\n",
    "                       stroke_width = 1, stroke = 'blue'))\n",
    "    f += 0.05\n",
    "\n",
    "d"
   ]
  }
 ],
 "metadata": {
  "kernelspec": {
   "display_name": "Python 3",
   "language": "python",
   "name": "python3"
  },
  "language_info": {
   "codemirror_mode": {
    "name": "ipython",
    "version": 3
   },
   "file_extension": ".py",
   "mimetype": "text/x-python",
   "name": "python",
   "nbconvert_exporter": "python",
   "pygments_lexer": "ipython3",
   "version": "3.10.7"
  }
 },
 "nbformat": 4,
 "nbformat_minor": 2
}
