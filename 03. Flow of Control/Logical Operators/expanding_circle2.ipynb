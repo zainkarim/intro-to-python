{
 "cells": [
  {
   "cell_type": "code",
   "execution_count": 23,
   "metadata": {},
   "outputs": [
    {
     "data": {
      "image/svg+xml": [
       "<?xml version=\"1.0\" encoding=\"UTF-8\"?>\n",
       "<svg xmlns=\"http://www.w3.org/2000/svg\" xmlns:xlink=\"http://www.w3.org/1999/xlink\"\n",
       "     width=\"300\" height=\"300\" viewBox=\"-150.0 -150.0 300 300\">\n",
       "<defs>\n",
       "</defs>\n",
       "<circle cx=\"0\" cy=\"0\" r=\"99\" fill=\"blue\" />\n",
       "</svg>"
      ],
      "text/plain": [
       "<drawsvg.drawing.Drawing at 0x10a551ae0>"
      ]
     },
     "metadata": {},
     "output_type": "display_data"
    }
   ],
   "source": [
    "# DRILL: draw expanding\n",
    "\n",
    "import drawsvg as draw\n",
    "\n",
    "# Draw a frame of the animation\n",
    "def draw_frame(r):\n",
    "    d = draw.Drawing(300, 300, origin='center') # create canvas\n",
    "    d.append(draw.Circle(0, 0, r, fill = 'blue'))\n",
    "    return d\n",
    "\n",
    "# run the animation               \n",
    "\n",
    "with draw.frame_animate_jupyter(draw_frame, delay=0.01) as anim:\n",
    "    r = 0 # small radius\n",
    "    R = 100 # big radius\n",
    "    while r < R:\n",
    "        anim.draw_frame(r)\n",
    "        r += 1"
   ]
  }
 ],
 "metadata": {
  "kernelspec": {
   "display_name": "Python 3",
   "language": "python",
   "name": "python3"
  },
  "language_info": {
   "codemirror_mode": {
    "name": "ipython",
    "version": 3
   },
   "file_extension": ".py",
   "mimetype": "text/x-python",
   "name": "python",
   "nbconvert_exporter": "python",
   "pygments_lexer": "ipython3",
   "version": "3.10.7"
  }
 },
 "nbformat": 4,
 "nbformat_minor": 2
}
