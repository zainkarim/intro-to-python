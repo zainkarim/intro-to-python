{
 "cells": [
  {
   "cell_type": "code",
   "execution_count": 2,
   "metadata": {},
   "outputs": [
    {
     "data": {
      "image/svg+xml": [
       "<?xml version=\"1.0\" encoding=\"UTF-8\"?>\n",
       "<svg xmlns=\"http://www.w3.org/2000/svg\" xmlns:xlink=\"http://www.w3.org/1999/xlink\"\n",
       "     width=\"250\" height=\"250\" viewBox=\"-125.0 -125.0 250 250\">\n",
       "<defs>\n",
       "</defs>\n",
       "<circle cx=\"0\" cy=\"0\" r=\"119\" color=\"blue\" />\n",
       "</svg>"
      ],
      "text/plain": [
       "<drawsvg.drawing.Drawing at 0x10a6178e0>"
      ]
     },
     "metadata": {},
     "output_type": "display_data"
    }
   ],
   "source": [
    "# DRILL: draw expanding circle\n",
    "import drawsvg as draw\n",
    "\n",
    "# Create a draw_frame function:\n",
    "def draw_frame(r):\n",
    "    d = draw.Drawing(250, 250, origin = 'center') # Create canvas\n",
    "    d.append(draw.Circle(0, 0, r, color = 'blue')) # Draw first frame\n",
    "    return d\n",
    "\n",
    "# Create animation\n",
    "with draw.frame_animate_jupyter(draw_frame, delay=0.01) as anim:\n",
    "    r = 0 # set initial value for r\n",
    "    while(r < 120):\n",
    "        anim.draw_frame(r)\n",
    "        r += 1\n",
    "        \n"
   ]
  }
 ],
 "metadata": {
  "kernelspec": {
   "display_name": "Python 3",
   "language": "python",
   "name": "python3"
  },
  "language_info": {
   "codemirror_mode": {
    "name": "ipython",
    "version": 3
   },
   "file_extension": ".py",
   "mimetype": "text/x-python",
   "name": "python",
   "nbconvert_exporter": "python",
   "pygments_lexer": "ipython3",
   "version": "3.10.7"
  }
 },
 "nbformat": 4,
 "nbformat_minor": 2
}
