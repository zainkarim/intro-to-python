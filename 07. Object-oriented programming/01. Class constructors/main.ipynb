{
 "cells": [
  {
   "cell_type": "markdown",
   "metadata": {},
   "source": [
    "A **class** combines (and abstracts) data and functions - house blueprints\n",
    "An **object** is an instantiation of a class - house itself \n",
    "\n",
    "String is a built in class, append is a function\n",
    "Int is a built in class, '+' is a function\n",
    "\n",
    "We can define our own classes.\n",
    "\n",
    "myBall = Ball(10.0, 15.0, 0.0, -5.0)\n",
    "constructor:\n",
    "    - allocate memory for a Ball object\n",
    "    - initializes the Ball object with values\n",
    "    - returns address of the Ball object\n",
    "    - *** similar to a list"
   ]
  },
  {
   "cell_type": "code",
   "execution_count": 7,
   "metadata": {},
   "outputs": [
    {
     "name": "stdout",
     "output_type": "stream",
     "text": [
      "10, 15\n"
     ]
    }
   ],
   "source": [
    "import drawsvg as draw\n",
    "from random import randint, random\n",
    "\n",
    "D = draw.Drawing(200, 200, origin='center') # define drawing canvas\n",
    "EARTH_GRAVITY_ACCELERATION = -9.8   # acceleration due to gravity, m/sec^2\n",
    "BALL_RADIUS = 10  # radius of the ball in pixels\n",
    "\n",
    "# Ball class\n",
    "class Ball:\n",
    "    # __init__ syntax -> class constructor\n",
    "    # self is the address of the object created with the class\n",
    "    def __init__(self, start_x, start_y, start_v_x, start_v_y, color='blue'): # default color is blue\n",
    "        # Ball location and velocity\n",
    "        self.x = start_x # reach into object using self variable\n",
    "        self.y = start_y\n",
    "        self.v_x = start_v_x\n",
    "        self.v_y = start_v_y\n",
    "\n",
    "        # Ball color, for drawing purposes\n",
    "        self.color = color\n",
    "    \n",
    "    # RETURN location of object when print(object) is called\n",
    "    def __str__(self):\n",
    "        return str(self.x) + \", \" + str(self.y)\n",
    "\n",
    "    # this function only takes in one param, but it also refers to 'self'\n",
    "    def update_position(self, timestep):\n",
    "        # update x and y positions  based on x and y velocities multiplied by timestep\n",
    "        self.x = self.x + timestep * self.v_x\n",
    "        self.y = self.y + timestep * self.v_y \n",
    "\n",
    "    def update_velocity(self, timestep):\n",
    "        self.v_y = self.v_y + timestep * EARTH_GRAVITY_ACCELERATION\n",
    "\n",
    "    def animate_step(self, timestep):\n",
    "        self.update_position(timestep)\n",
    "        self.update_velocity(timestep)\n",
    "\n",
    "    def draw_ball(self):\n",
    "        D.append(draw.Circle(self.x, self.y, BALL_RADIUS, fill=self.color))\n",
    "\n",
    "# Create myBall object using the Ball class\n",
    "myBall = Ball(10.0, 15.0, 0.0, -5.0)\n",
    "\n",
    "# update myBall's position\n",
    "myBall.update_position(0.1) #update_position(myball, 0.1)\n",
    "\n",
    "# What happens when you print an object?\n",
    "b = Ball(10, 15, 0, -5)\n",
    "print(b)"
   ]
  },
  {
   "cell_type": "code",
   "execution_count": 23,
   "metadata": {},
   "outputs": [
    {
     "name": "stdout",
     "output_type": "stream",
     "text": [
      "the x-coordinate is  5.0\n",
      "the y-coordinate is  5.0\n",
      "the x-coordinate is  5.3\n",
      "the y-coordinate is  5.6\n",
      "the y-velocity is  5.02\n"
     ]
    },
    {
     "data": {
      "image/svg+xml": [
       "<?xml version=\"1.0\" encoding=\"UTF-8\"?>\n",
       "<svg xmlns=\"http://www.w3.org/2000/svg\" xmlns:xlink=\"http://www.w3.org/1999/xlink\"\n",
       "     width=\"200\" height=\"200\" viewBox=\"-100.0 -100.0 200 200\">\n",
       "<defs>\n",
       "</defs>\n",
       "<circle cx=\"104.0\" cy=\"-272.3979999999999\" r=\"10\" fill=\"green\" />\n",
       "<circle cx=\"-104.0\" cy=\"-282.3979999999999\" r=\"10\" fill=\"red\" />\n",
       "<circle cx=\"5.6\" cy=\"6.199999999999999\" r=\"10\" fill=\"blue\" />\n",
       "<circle cx=\"-5.0\" cy=\"-5.0\" r=\"10\" fill=\"red\" />\n",
       "</svg>"
      ],
      "text/plain": [
       "<drawsvg.drawing.Drawing at 0x106599000>"
      ]
     },
     "execution_count": 23,
     "metadata": {},
     "output_type": "execute_result"
    }
   ],
   "source": [
    "# test Ball class\n",
    "ball1 = Ball(5.0, 5.0, 3.0, 6.0)\n",
    "print( \"the x-coordinate is \", ball1.x)\n",
    "print( \"the y-coordinate is \", ball1.y)\n",
    "\n",
    "ball1.update_position(0.1)\n",
    "print( \"the x-coordinate is \", ball1.x)\n",
    "print( \"the y-coordinate is \", ball1.y)\n",
    "\n",
    "ball1.animate_step(0.1)\n",
    "print( \"the y-velocity is \", ball1.v_y)\n",
    "\n",
    "ball1.draw_ball()\n",
    "\n",
    "ball2 = Ball(-5.0, -5.0, -3.0, -6.0, \"red\")\n",
    "ball2.draw_ball()\n",
    "D\n"
   ]
  },
  {
   "cell_type": "code",
   "execution_count": 25,
   "metadata": {},
   "outputs": [
    {
     "data": {
      "image/svg+xml": [
       "<?xml version=\"1.0\" encoding=\"UTF-8\"?>\n",
       "<svg xmlns=\"http://www.w3.org/2000/svg\" xmlns:xlink=\"http://www.w3.org/1999/xlink\"\n",
       "     width=\"200\" height=\"200\" viewBox=\"-100.0 -100.0 200 200\">\n",
       "<defs>\n",
       "</defs>\n",
       "<circle cx=\"104.0\" cy=\"-272.3979999999999\" r=\"10\" fill=\"green\" />\n",
       "<circle cx=\"-104.0\" cy=\"-282.3979999999999\" r=\"10\" fill=\"red\" />\n",
       "</svg>"
      ],
      "text/plain": [
       "<drawsvg.drawing.Drawing at 0x106599750>"
      ]
     },
     "metadata": {},
     "output_type": "display_data"
    }
   ],
   "source": [
    "# Ball object animation\n",
    "D = draw.Drawing(200, 200, origin='center') # define drawing canvas\n",
    "EARTH_GRAVITY_ACCELERATION = 9.8   # acceleration due to gravity, m/sec^2\n",
    "BALL_RADIUS = 10  # radius of the ball in pixels\n",
    "\n",
    "ball1 = Ball(5.0, 5.0, 10.0, 20.0, \"green\")\n",
    "ball2 = Ball(-5.0, -5.0, -10.0, 20.0, \"red\")\n",
    "\n",
    "def draw_frame():\n",
    "    ball1.draw_ball()\n",
    "    ball2.draw_ball()\n",
    "    return D\n",
    "\n",
    "for i in range(0,100):\n",
    "    D = draw.Drawing(200, 200, origin='center') # erase canvas\n",
    "    \n",
    "    with draw.frame_animate_jupyter(draw_frame, delay=0.05) as anim:\n",
    "        anim.draw_frame()\n",
    "        \n",
    "    ball1.animate_step(0.1)\n",
    "    ball2.animate_step(0.1)"
   ]
  }
 ],
 "metadata": {
  "kernelspec": {
   "display_name": "Python 3",
   "language": "python",
   "name": "python3"
  },
  "language_info": {
   "codemirror_mode": {
    "name": "ipython",
    "version": 3
   },
   "file_extension": ".py",
   "mimetype": "text/x-python",
   "name": "python",
   "nbconvert_exporter": "python",
   "pygments_lexer": "ipython3",
   "version": "3.10.7"
  }
 },
 "nbformat": 4,
 "nbformat_minor": 2
}
