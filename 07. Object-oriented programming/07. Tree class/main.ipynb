{
 "cells": [
  {
   "cell_type": "code",
   "execution_count": 2,
   "metadata": {},
   "outputs": [
    {
     "data": {
      "image/svg+xml": [
       "<?xml version=\"1.0\" encoding=\"UTF-8\"?>\n",
       "<svg xmlns=\"http://www.w3.org/2000/svg\" xmlns:xlink=\"http://www.w3.org/1999/xlink\"\n",
       "     width=\"200\" height=\"200\" viewBox=\"-100.0 -100.0 200 200\">\n",
       "<defs>\n",
       "</defs>\n",
       "<rect x=\"86\" y=\"-5\" width=\"8\" height=\"30\" fill=\"brown\" />\n",
       "<circle cx=\"90\" cy=\"30\" r=\"12\" fill=\"green\" />\n",
       "</svg>"
      ],
      "text/plain": [
       "<drawsvg.drawing.Drawing at 0x1055e8d00>"
      ]
     },
     "execution_count": 2,
     "metadata": {},
     "output_type": "execute_result"
    }
   ],
   "source": [
    "import drawsvg as draw\n",
    "import random\n",
    "\n",
    "class Tree:\n",
    "    def __init__(self, x, y):\n",
    "        self.x = x\n",
    "        self.y = y\n",
    "\n",
    "    def draw(self):\n",
    "        # draw tree trunk\n",
    "        D.append(draw.Rectangle(self.x-4, self.y-35, 8, 30, fill = 'brown'))\n",
    "        \n",
    "        # draw  tree top\n",
    "        D.append(draw.Circle(self.x, self.y, 12, fill = 'green'))\n",
    "\n",
    "D = draw.Drawing(200, 200, origin='center') # define drawing canvas\n",
    "\n",
    "tree = Tree(90,30)\n",
    "tree.draw()\n",
    "D"
   ]
  },
  {
   "cell_type": "code",
   "execution_count": 9,
   "metadata": {},
   "outputs": [
    {
     "data": {
      "image/svg+xml": [
       "<?xml version=\"1.0\" encoding=\"UTF-8\"?>\n",
       "<svg xmlns=\"http://www.w3.org/2000/svg\" xmlns:xlink=\"http://www.w3.org/1999/xlink\"\n",
       "     width=\"200\" height=\"200\" viewBox=\"-100.0 -100.0 200 200\">\n",
       "<defs>\n",
       "</defs>\n",
       "<rect x=\"-200\" y=\"-200\" width=\"400\" height=\"400\" fill=\"#ADD8E6\" />\n",
       "<rect x=\"-200\" y=\"-100\" width=\"400\" height=\"150\" fill=\"#90EE90\" />\n",
       "<rect x=\"55.45257705951818\" y=\"5.048433437993708\" width=\"8\" height=\"30\" fill=\"brown\" />\n",
       "<circle cx=\"59.45257705951818\" cy=\"40.04843343799371\" r=\"12\" fill=\"green\" />\n",
       "<rect x=\"-42.09092952027507\" y=\"-97.39910093155456\" width=\"8\" height=\"30\" fill=\"brown\" />\n",
       "<circle cx=\"-38.09092952027507\" cy=\"-62.39910093155456\" r=\"12\" fill=\"green\" />\n",
       "<rect x=\"-68.35381008861741\" y=\"-61.087015228021116\" width=\"8\" height=\"30\" fill=\"brown\" />\n",
       "<circle cx=\"-64.35381008861741\" cy=\"-26.087015228021116\" r=\"12\" fill=\"green\" />\n",
       "<rect x=\"-13.131841741921818\" y=\"32.01033835661261\" width=\"8\" height=\"30\" fill=\"brown\" />\n",
       "<circle cx=\"-9.131841741921818\" cy=\"67.0103383566126\" r=\"12\" fill=\"green\" />\n",
       "<rect x=\"-61.547400640304836\" y=\"-52.34937992248136\" width=\"8\" height=\"30\" fill=\"brown\" />\n",
       "<circle cx=\"-57.547400640304836\" cy=\"-17.34937992248136\" r=\"12\" fill=\"green\" />\n",
       "<rect x=\"79.78545291023704\" y=\"-65.12053149207267\" width=\"8\" height=\"30\" fill=\"brown\" />\n",
       "<circle cx=\"83.78545291023704\" cy=\"-30.12053149207268\" r=\"12\" fill=\"green\" />\n",
       "<rect x=\"-46.276937681802934\" y=\"-75.48735638567032\" width=\"8\" height=\"30\" fill=\"brown\" />\n",
       "<circle cx=\"-42.276937681802934\" cy=\"-40.48735638567032\" r=\"12\" fill=\"green\" />\n",
       "<rect x=\"-33.58807290849294\" y=\"38.48992793347975\" width=\"8\" height=\"30\" fill=\"brown\" />\n",
       "<circle cx=\"-29.58807290849294\" cy=\"73.48992793347975\" r=\"12\" fill=\"green\" />\n",
       "<rect x=\"-59.85625604175645\" y=\"-90.05198579805008\" width=\"8\" height=\"30\" fill=\"brown\" />\n",
       "<circle cx=\"-55.85625604175645\" cy=\"-55.05198579805009\" r=\"12\" fill=\"green\" />\n",
       "<rect x=\"-23.66368720632323\" y=\"-97.69972415353348\" width=\"8\" height=\"30\" fill=\"brown\" />\n",
       "<circle cx=\"-19.66368720632323\" cy=\"-62.69972415353348\" r=\"12\" fill=\"green\" />\n",
       "</svg>"
      ],
      "text/plain": [
       "<drawsvg.drawing.Drawing at 0x1053f01f0>"
      ]
     },
     "execution_count": 9,
     "metadata": {},
     "output_type": "execute_result"
    }
   ],
   "source": [
    "# Forest class\n",
    "class Forest:\n",
    "    def __init__(self, n):\n",
    "        # list of n trees\n",
    "        self.forest = []\n",
    "        for i in range(0, n):\n",
    "            self.x = random.uniform(-85, 85)\n",
    "            self.y = random.uniform(-85,85)\n",
    "            self.tree = Tree(self.x, self.y)\n",
    "            self.forest.append(self.tree)\n",
    "    \n",
    "    # function to help sort forest[] so that trees in the back (higher y value) are occluded by trees in the front (lower y value)\n",
    "    def key_y(self, tree):\n",
    "        return tree.getY()\n",
    "    \n",
    "    def draw_forest(self):\n",
    "        D.append(draw.Rectangle(-200,-200,400,400,fill='#ADD8E6')) # blue background\n",
    "        D.append(draw.Rectangle(-200,-100,400,150,fill='#90EE90')) # green grass\n",
    "        for self.tree in self.forest:\n",
    "            self.tree.draw() # draw trees\n",
    "\n",
    "D = draw.Drawing(200, 200, origin='center') # define drawing canvas\n",
    "myForest = Forest(10)\n",
    "myForest.draw_forest()\n",
    "D"
   ]
  }
 ],
 "metadata": {
  "kernelspec": {
   "display_name": "Python 3",
   "language": "python",
   "name": "python3"
  },
  "language_info": {
   "codemirror_mode": {
    "name": "ipython",
    "version": 3
   },
   "file_extension": ".py",
   "mimetype": "text/x-python",
   "name": "python",
   "nbconvert_exporter": "python",
   "pygments_lexer": "ipython3",
   "version": "3.10.7"
  }
 },
 "nbformat": 4,
 "nbformat_minor": 2
}
