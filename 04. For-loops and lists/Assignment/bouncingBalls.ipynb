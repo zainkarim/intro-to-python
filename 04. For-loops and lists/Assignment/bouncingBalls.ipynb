{
 "cells": [
  {
   "cell_type": "code",
   "execution_count": 24,
   "metadata": {},
   "outputs": [
    {
     "name": "stdout",
     "output_type": "stream",
     "text": [
      "Ball 1: Position (90.26362146933889, 73.39443376477763), Velocity (1.9142551868814532, 1.2834711655215338)\n"
     ]
    }
   ],
   "source": [
    "import drawsvg as draw\n",
    "import random\n",
    "\n",
    "# Canvas dimesions\n",
    "WINDOW_X = 250\n",
    "WINDOW_Y = 250\n",
    "\n",
    "# Number of balls\n",
    "balls = 1\n",
    "\n",
    "# Ball radius\n",
    "r = 25\n",
    "\n",
    "# Ball properties\n",
    "x_position = [] # x position\n",
    "y_position = [] # y position\n",
    "vx = [] # velocity in x direction\n",
    "vy = [] # velocity in y direction\n",
    "\n",
    "for i in range (0, balls):\n",
    "    x = random.uniform(r, WINDOW_X - r)\n",
    "    y = random.uniform(r, WINDOW_Y - r)\n",
    "    v_x = random.uniform(-5,5)\n",
    "    v_y = random.uniform(-5,5)\n",
    "\n",
    "    x_position.append(x)\n",
    "    y_position.append(y)\n",
    "    vx.append(v_x)\n",
    "    vy.append(v_y)\n",
    "\n",
    "for i in range(balls):\n",
    "    print(f\"Ball {i+1}: Position ({x_position[i]}, {y_position[i]}), Velocity ({vx[i]}, {vy[i]})\")\n",
    "\n",
    "timestep = 1\n",
    "def update_position(i):\n",
    "    x_position[i] = x_position + timestep * vx[i]\n",
    "    y_position[i] = y_position + timestep * vy[i]\n",
    "\n",
    "def draw_ball(i):\n",
    "    "
   ]
  }
 ],
 "metadata": {
  "kernelspec": {
   "display_name": "Python 3",
   "language": "python",
   "name": "python3"
  },
  "language_info": {
   "codemirror_mode": {
    "name": "ipython",
    "version": 3
   },
   "file_extension": ".py",
   "mimetype": "text/x-python",
   "name": "python",
   "nbconvert_exporter": "python",
   "pygments_lexer": "ipython3",
   "version": "3.10.7"
  }
 },
 "nbformat": 4,
 "nbformat_minor": 2
}
